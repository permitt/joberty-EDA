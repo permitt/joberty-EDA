{
 "cells": [
  {
   "cell_type": "code",
   "execution_count": 1,
   "metadata": {},
   "outputs": [],
   "source": [
    "import requests\n",
    "import re\n",
    "from selenium import webdriver\n",
    "import time\n",
    "from selenium.common.exceptions import NoSuchElementException   \n",
    "import json"
   ]
  },
  {
   "cell_type": "code",
   "execution_count": 2,
   "metadata": {},
   "outputs": [],
   "source": [
    "\n",
    "# EMAIL I PASSWORD\n",
    "\n",
    "def login(driver):\n",
    "    driver.get(\"https://www.joberty.rs/IT-kompanije?page=1&pageSize=15&sort=review_number_desc\")\n",
    "    driver.find_element_by_xpath(\"/html/body/div/div/div/div/div[1]/div/div/div/div/div[2]/div/div/button\").click()\n",
    " *   driver.find_element_by_xpath(\"/html/body/div[2]/div/div/div/form/div[1]/input\").send_keys(\"*************@gmail.com\")\n",
    " *   driver.find_element_by_xpath(\"/html/body/div[2]/div/div/div/form/div[2]/div[1]/div/input\").send_keys(\"**************\")\n",
    "    driver.find_element_by_xpath(\"/html/body/div[2]/div/div/div/form/div[4]/button\").click()\n",
    "    \n",
    "def get_links(driver, page):\n",
    "    driver.get(f\"https://www.joberty.rs/IT-kompanije?page={page}&pageSize=20&sort=review_number_desc\")\n",
    "    html = driver.find_element_by_xpath(\"/html/body/div/div/div/div/div[2]/div/div[2]/div[2]/div[2]/div/div\").get_attribute('outerHTML')\n",
    "    x = re.findall(\"\\/it-kompanija\\/[0-9]*\\/[0-9a-zA-Z-().]*\\/o-kompaniji\", html) \n",
    "    return html, set(x)\n",
    "\n",
    "def check_exists_by_xpath(driver, xpath):\n",
    "    try:\n",
    "        driver.find_element_by_xpath(xpath)\n",
    "    except NoSuchElementException:\n",
    "        return False\n",
    "    return True"
   ]
  },
  {
   "cell_type": "code",
   "execution_count": 3,
   "metadata": {},
   "outputs": [],
   "source": [
    "def get_comments_elements(URL):\n",
    "    driver.get(URL)\n",
    "    time.sleep(5)\n",
    "    \n",
    "    # press Prikazi vise button\n",
    "    while check_exists_by_xpath(driver, \"/html/body/div/div/div/div/div[2]/div/div[2]/div/div[2]/div/div/div/div[2]/div/div[1]/div/button\"):\n",
    "        driver.find_element_by_xpath(\"/html/body/div/div/div/div/div[2]/div/div[2]/div/div[2]/div/div/div/div[2]/div/div[1]/div/button\").click()\n",
    "\n",
    "    comments = driver.find_elements_by_class_name(\"comment\")\n",
    "    return comments\n",
    "\n",
    "def get_comments_json(comments, display=False):\n",
    "    comments_data = []\n",
    "\n",
    "    for j in range(0, len(comments)):\n",
    "        comment = comments[j]\n",
    "        i = j+1\n",
    "        \n",
    "        gradeX = f\"/html/body/div/div/div/div/div[2]/div/div[2]/div/div[2]/div/div/div/div[2]/div/div[1]/div/div[{i}]/div/div[1]/div[1]\"\n",
    "        if not check_exists_by_xpath(driver, gradeX):\n",
    "            continue\n",
    "        grade = comment.find_element_by_xpath(gradeX).get_attribute('innerHTML')\n",
    "        date = comment.find_element_by_xpath(f\"/html/body/div/div/div/div/div[2]/div/div[2]/div/div[2]/div/div/div/div[2]/div/div[1]/div/div[{i}]/div/div[3]/i/time\").get_attribute('innerHTML')\n",
    "\n",
    "        title = comment.find_element_by_xpath(f\"/html/body/div/div/div/div/div[2]/div/div[2]/div/div[2]/div/div/div/div[2]/div/div[1]/div/div[{i}]/div/div[2]/span\").get_attribute('innerHTML')\n",
    "\n",
    "        divid = 4\n",
    "\n",
    "        positive = \"\"\n",
    "        positiveX = f\"/html/body/div/div/div/div/div[2]/div/div[2]/div/div[2]/div/div/div/div[2]/div/div[1]/div/div[{i}]/div/div[4]/div/div[1]/div[2]/span\"\n",
    "        if check_exists_by_xpath(driver, positiveX):\n",
    "            positive = comment.find_element_by_xpath(positiveX).get_attribute('innerHTML')\n",
    "        else:\n",
    "            divid -= 1\n",
    "\n",
    "        negative = \"\"\n",
    "        negativeX = f\"/html/body/div/div/div/div/div[2]/div/div[2]/div/div[2]/div/div/div/div[2]/div/div[1]/div/div[{i}]/div/div[4]/div/div[2]/div[2]/span\"\n",
    "        if check_exists_by_xpath(driver, negativeX):\n",
    "            negative = comment.find_element_by_xpath(negativeX).get_attribute('innerHTML')\n",
    "        else:\n",
    "            divid -= 1\n",
    "\n",
    "        projects = \"\"\n",
    "        projectsX = f\"/html/body/div/div/div/div/div[2]/div/div[2]/div/div[2]/div/div/div/div[2]/div/div[1]/div/div[{i}]/div/div[4]/div/div[3]/div[2]/span\"\n",
    "        if check_exists_by_xpath(driver, projectsX):\n",
    "            projects = comment.find_element_by_xpath(projectsX).get_attribute('innerHTML')\n",
    "        else:\n",
    "            divid -= 1\n",
    "\n",
    "        role =               comment.find_element_by_xpath(f\"/html/body/div/div/div/div/div[2]/div/div[2]/div/div[2]/div/div/div/div[2]/div/div[1]/div/div[{i}]/div/div[4]/div/div[{divid}]/div[1]/div[1]/span\").get_attribute('innerHTML')\n",
    "        current_employment = comment.find_element_by_xpath(f\"/html/body/div/div/div/div/div[2]/div/div[2]/div/div[2]/div/div/div/div[2]/div/div[1]/div/div[{i}]/div/div[4]/div/div[{divid}]/div[1]/div[2]/span[1]\").get_attribute('innerHTML')\n",
    "        full_part =          comment.find_element_by_xpath(f\"/html/body/div/div/div/div/div[2]/div/div[2]/div/div[2]/div/div/div/div[2]/div/div[1]/div/div[{i}]/div/div[4]/div/div[{divid}]/div[1]/div[2]/span[2]\").get_attribute('innerHTML')\n",
    "        left_stays =         comment.find_element_by_xpath(f\"/html/body/div/div/div/div/div[2]/div/div[2]/div/div[2]/div/div/div/div[2]/div/div[1]/div/div[{i}]/div/div[4]/div/div[{divid}]/div[1]/div[2]/span[3]\").get_attribute('innerHTML')\n",
    "\n",
    "        if display:\n",
    "            print(f\"j = {j}\")\n",
    "            print(f\"i = {i}\")\n",
    "\n",
    "            print(f\"grade = {grade}\")\n",
    "            print(f\"date = {date}\\n\")\n",
    "\n",
    "            print(f\"title = {title}\")\n",
    "\n",
    "            print(f\"positive = {positive}\")\n",
    "            print(f\"negative = {negative}\")\n",
    "            print(f\"projects = {projects}\\n\")\n",
    "\n",
    "            print(f\"role = {role}\")\n",
    "            print(f\"current_employment = {current_employment}\")\n",
    "            print(f\"full_part = {full_part}\")\n",
    "            print(f\"left_stays = {left_stays}\")\n",
    "            print(\"\\n\\n\")\n",
    "\n",
    "        obj = {\n",
    "            \"grade\" : grade,\n",
    "            \"date\" : date,\n",
    "            \"title\" : title,\n",
    "            \"positive\" : positive,\n",
    "            \"negative\" : negative,\n",
    "            \"projects\" : projects,\n",
    "            \"role\" : role,\n",
    "            \"current_employment\" : current_employment,\n",
    "            \"full_part\" : full_part,\n",
    "            \"left_stays\" : left_stays,\n",
    "        }\n",
    "        comments_data.append(obj)\n",
    "    return comments_data\n",
    "\n",
    "def write_to_file(name, data):\n",
    "    with open('comments/'+name+'.json', 'w', encoding='utf-8') as f:\n",
    "        json.dump(data, f, ensure_ascii=False, indent=4)"
   ]
  },
  {
   "cell_type": "markdown",
   "metadata": {},
   "source": [
    "#### Login"
   ]
  },
  {
   "cell_type": "code",
   "execution_count": 46,
   "metadata": {},
   "outputs": [],
   "source": [
    "driver = webdriver.Firefox(executable_path=r'D:/2022/siap/geckodriver.exe')\n",
    "login(driver)"
   ]
  },
  {
   "cell_type": "markdown",
   "metadata": {},
   "source": [
    "#### Ucitavanje url-ova svih kompanija"
   ]
  },
  {
   "cell_type": "code",
   "execution_count": 29,
   "metadata": {},
   "outputs": [],
   "source": [
    "file1 = open('links.txt', 'r')\n",
    "lines = file1.readlines()\n",
    "\n",
    "ln = []\n",
    "for line in lines:\n",
    "    line = line.strip()\n",
    "    line = line.replace('o-kompaniji', 'iskustva')\n",
    "    ln.append(line)"
   ]
  },
  {
   "cell_type": "markdown",
   "metadata": {},
   "source": [
    "#### Preuzimanje komentara i cuvanje u fajl"
   ]
  },
  {
   "cell_type": "code",
   "execution_count": 47,
   "metadata": {},
   "outputs": [],
   "source": [
    "for company_url in ln[0:389]:\n",
    "    comments = get_comments_elements(company_url)\n",
    "    comments_json = get_comments_json(comments, False)\n",
    "    write_to_file(company_url.split(\"/\")[-2], comments_json)"
   ]
  }
 ],
 "metadata": {
  "kernelspec": {
   "display_name": "Python 3",
   "language": "python",
   "name": "python3"
  },
  "language_info": {
   "codemirror_mode": {
    "name": "ipython",
    "version": 3
   },
   "file_extension": ".py",
   "mimetype": "text/x-python",
   "name": "python",
   "nbconvert_exporter": "python",
   "pygments_lexer": "ipython3",
   "version": "3.6.8"
  }
 },
 "nbformat": 4,
 "nbformat_minor": 4
}
